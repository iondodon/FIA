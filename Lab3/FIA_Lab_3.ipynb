{
  "nbformat": 4,
  "nbformat_minor": 0,
  "metadata": {
    "colab": {
      "name": "FIA_Lab_3.ipynb",
      "provenance": [],
      "collapsed_sections": []
    },
    "kernelspec": {
      "name": "python3",
      "display_name": "Python 3"
    }
  },
  "cells": [
    {
      "cell_type": "code",
      "metadata": {
        "id": "PE_jkLfwrs0j"
      },
      "source": [
        "Example 1"
      ],
      "execution_count": null,
      "outputs": []
    },
    {
      "cell_type": "code",
      "metadata": {
        "id": "a6XF4jKIfn0H"
      },
      "source": [
        "import keras \n",
        "import numpy as np\n",
        "from keras.datasets import boston_housing \n",
        "from keras.models import Sequential \n",
        "from keras.layers import Dense \n",
        "from keras.optimizers import RMSprop \n",
        "from keras.callbacks import EarlyStopping \n",
        "from sklearn import preprocessing \n",
        "from sklearn.preprocessing import scale\n",
        "import pandas as pd\n",
        "\n",
        "pd_data = pd.read_csv(\n",
        "    'apartmentComplexData.txt', \n",
        "    delimiter=',',\n",
        "    names=['1', '2', '3', '4', '5', '6', '7', '8', '9']    \n",
        ")\n",
        "pd_data = pd_data.drop(columns=['1', '2', '8'])\n",
        "data = pd_data.to_numpy()\n",
        "\n",
        "train_data = data[: int(len(data) * 0.75)]\n",
        "train_variables = train_data[:, :5]\n",
        "train_values = train_data[:, 5]\n",
        "\n",
        "test_data = data[int(len(data) * 0.75) :]\n",
        "test_variables = test_data[:, :5]\n",
        "test_values = test_data[:, 5]\n",
        "\n",
        "x_train_scaled = preprocessing.scale(train_variables) \n",
        "scaler = preprocessing.StandardScaler().fit(train_variables) \n",
        "x_test_scaled = scaler.transform(test_variables)\n",
        "\n",
        "model = Sequential() \n",
        "\n",
        "model.add(Dense(\n",
        "      1,\n",
        "      kernel_initializer = 'normal', \n",
        "      activation = 'relu',\n",
        "      input_shape = (5,)\n",
        "))\n",
        "# model.add(Dense(3, activation = 'relu'))\n",
        "model.add(Dense(1, activation = 'linear'))\n",
        "\n",
        "sgd = keras.optimizers.SGD(learning_rate = 0.001)\n",
        "model.compile(loss='mae', optimizer=sgd, metrics=['mean_absolute_error'])\n",
        "\n",
        "\n",
        "history = model.fit(\n",
        "   x_train_scaled, train_values,    \n",
        "   batch_size = 64, \n",
        "   epochs = 100,\n",
        "   verbose = 1,\n",
        "   validation_split = 0.25,\n",
        "   callbacks = [EarlyStopping(monitor = 'val_loss', patience = 20)]\n",
        ")\n",
        "\n",
        "\n",
        "score = model.evaluate(x_train_scaled, train_values, verbose = 1)\n",
        "print('Test loss:', score[0])\n",
        "print('Test accuracy:', score[1])\n",
        "\n",
        "# prediction = model.predict(variables[0]) \n",
        "# print(prediction.flatten()) \n",
        "# print(y_test)\n",
        "\n"
      ],
      "execution_count": null,
      "outputs": []
    },
    {
      "cell_type": "markdown",
      "metadata": {
        "id": "m0wNCYYolmHl"
      },
      "source": [
        "Example 2"
      ]
    },
    {
      "cell_type": "code",
      "metadata": {
        "id": "s9RdtK5ElnbE"
      },
      "source": [
        "import pandas as pd\n",
        "import numpy as np\n",
        "from sklearn import linear_model\n",
        "from sklearn.metrics import *\n",
        "\n",
        "pd_data = pd.read_csv(\n",
        "    'apartmentComplexData.txt', \n",
        "    delimiter=',',\n",
        "    names=['1', '2', '3', '4', '5', '6', '7', '8', '9']    \n",
        ")\n",
        "\n",
        "msk = np.random.rand(len(pd_data)) < 0.8\n",
        "train_data = pd_data[msk]\n",
        "test_data = pd_data[~msk]\n",
        "\n",
        "\n",
        "reg = linear_model.LinearRegression()\n",
        "reg.fit(train_data[['3', '4', '5', '6', '7']], train_data[['9']])\n",
        "\n",
        "test_predictions = reg.predict(test_data[['3', '4', '5', '6', '7']])\n",
        "\n",
        "y_true = test_data[['9']].to_numpy()[:,0]\n",
        "y_pred = test_predictions[:,0]\n",
        "\n",
        "\n",
        "variance = explained_variance_score(y_true, y_pred)\n",
        "print(\"explained_variance_score = \", variance)\n",
        "\n",
        "mse = mean_squared_error(y_true, y_pred)\n",
        "print(\"mean_squared_error = \", mse)\n",
        "\n",
        "mae = mean_absolute_error(y_true, y_pred)\n",
        "print(\"mean_absolute_error = \", mae)\n",
        "\n",
        "reg.score(train_data[['3', '4', '5', '6', '7']], train_data[['9']])\n"
      ],
      "execution_count": null,
      "outputs": []
    }
  ]
}