{
  "nbformat": 4,
  "nbformat_minor": 0,
  "metadata": {
    "colab": {
      "name": "FIA_Lab_3.ipynb",
      "provenance": [],
      "collapsed_sections": []
    },
    "kernelspec": {
      "name": "python3",
      "display_name": "Python 3"
    }
  },
  "cells": [
    {
      "cell_type": "markdown",
      "metadata": {
        "id": "iR4R9LXBamK4"
      },
      "source": [
        "First of all we have to import the libraries that we need in order to perform the linear regression. \n",
        "\n",
        "\n",
        "*   pandas - used to work work with data in a table manner\n",
        "*   numpy  - used to work with arrays, numbers\n",
        "*   sklearn - the library that offers us the posibility to create a linear regression model\n",
        "*   sklearn.metrics - functions used to measure the metrics of the linear regresion model\n",
        "*   matplotlib.pyplot - used to plot grafs\n",
        "\n"
      ]
    },
    {
      "cell_type": "code",
      "metadata": {
        "id": "9DB4lirgajeA"
      },
      "source": [
        "import pandas as pd\n",
        "import numpy as np\n",
        "from sklearn import linear_model\n",
        "from sklearn.metrics import *\n",
        "import matplotlib.pyplot as plt"
      ],
      "execution_count": null,
      "outputs": []
    },
    {
      "cell_type": "markdown",
      "metadata": {
        "id": "APPKjFE7bus4"
      },
      "source": [
        "After we have imported the librarie, we need to read our data from a .txt file. We read it using pandas. Pandas will create a dataFrame which will represent a table. When we read it, we can also specify the names for the columns and later we can use these names to retrieve partial data from the table. The column that we know what they represent are: complexAge, totalRooms, totalBedrooms, complexInhabitats, aprtmentNr and medianComplexValue. The medianComplexValue is the one that depends on the orher ones and we whould predict this values using our linear regression model."
      ]
    },
    {
      "cell_type": "code",
      "metadata": {
        "id": "Q3NPnYLwbyYI"
      },
      "source": [
        "pd_data = pd.read_csv(\n",
        "    'apartmentComplexData.txt', \n",
        "    delimiter=',',\n",
        "    names=[\n",
        "      '1',\n",
        "      '2',\n",
        "      'complexAge',\n",
        "      'totalRooms',\n",
        "      'totalBedrooms',\n",
        "      'complexInhabitants',\n",
        "      'apartmentsNr',\n",
        "      '8',\n",
        "      'medianCompexValue'\n",
        "    ]    \n",
        ")"
      ],
      "execution_count": null,
      "outputs": []
    },
    {
      "cell_type": "markdown",
      "metadata": {
        "id": "i6ZK2-t2c4Yh"
      },
      "source": [
        "The medianComplexValue depends on more values, not just one. Some of those columns have a bigger impact on the medianComplexValue especially when the model is beeing trained. We have to detemine what column are significant for the medianComplexValue. To see the corelation between each variable and the medianComplexValue we will plot on the x axis the variable and on the y axis the medianComplexValue. The graf will show us how the y changes in corelation to x. All variables should be tested, but for demonstration purposes we will show just some of them to explain the importance of these variables.\n",
        "\n",
        "\n",
        "As we can see in the plots bellow, in the first plot, where we have complexInhabitats on x and medianComplexValue on y, the x axis takes values mostly from 0 to 5000 while on the y axis the values cover all the range of y axis. \n",
        "\n",
        "From the plot we can conclude that the medianComplexValue is evenly distributed, or, it does not have a direction. But, as we will see in the next examples, there is a varaible that makes medianComlValue go in one direction."
      ]
    },
    {
      "cell_type": "code",
      "metadata": {
        "colab": {
          "base_uri": "https://localhost:8080/",
          "height": 312
        },
        "id": "_PvW2fbYcxOM",
        "outputId": "d5a9322e-0eb3-4328-bcdb-aaab43ebbf53"
      },
      "source": [
        "x = pd_data['complexInhabitants']\n",
        "y = pd_data['medianCompexValue']\n",
        "\n",
        "plt.plot(x, y, 'o', color ='cadetblue')\n",
        "\n",
        "plt.title(\"complexInhabitants vs medianCompexValue\")\n",
        "plt.xlabel(\"complexInhabitants\")\n",
        "plt.ylabel(\"medianCompexValue\")\n",
        "plt.legend()\n",
        "\n",
        "plt.show()\n"
      ],
      "execution_count": 31,
      "outputs": [
        {
          "output_type": "stream",
          "text": [
            "No handles with labels found to put in legend.\n"
          ],
          "name": "stderr"
        },
        {
          "output_type": "display_data",
          "data": {
            "image/png": "[encoded data removed]",
            "text/plain": [
              "<Figure size 432x288 with 1 Axes>"
            ]
          },
          "metadata": {
            "tags": [],
            "needs_background": "light"
          }
        }
      ]
    },
    {
      "cell_type": "markdown",
      "metadata": {
        "id": "waxPVDlcjZMz"
      },
      "source": [
        "In the second graf, we ploted on the x axis the values from the 8th column and on the y axis the median complex value. The difference between this plot and the previous one is that the distribution of balues has a clear slope. Or, in other words, there is a positive relation between them. Clearly we can see the there is a corelation between the 8th column and the medianComplexValue."
      ]
    },
    {
      "cell_type": "code",
      "metadata": {
        "colab": {
          "base_uri": "https://localhost:8080/",
          "height": 312
        },
        "id": "Jt1Ra4QkjgX8",
        "outputId": "3da8034f-dd20-4970-9047-1f201ee70cf5"
      },
      "source": [
        "x = pd_data['8']\n",
        "y = pd_data['medianCompexValue']\n",
        "\n",
        "plt.plot(x, y, 'o', color ='cadetblue')\n",
        "\n",
        "plt.title(\"Column 8 vs medianCompexValue\")\n",
        "plt.xlabel(\"Column 8\")\n",
        "plt.ylabel(\"medianCompexValue\")\n",
        "plt.legend()\n",
        "\n",
        "plt.show()"
      ],
      "execution_count": 30,
      "outputs": [
        {
          "output_type": "stream",
          "text": [
            "No handles with labels found to put in legend.\n"
          ],
          "name": "stderr"
        },
        {
          "output_type": "display_data",
          "data": {
            "image/png": "[encoded data removed]",
            "text/plain": [
              "<Figure size 432x288 with 1 Axes>"
            ]
          },
          "metadata": {
            "tags": [],
            "needs_background": "light"
          }
        }
      ]
    },
    {
      "cell_type": "markdown",
      "metadata": {
        "id": "NzUeNf9bjqyV"
      },
      "source": [
        "Now, we know that the 8th column is important in the process of training out linear regression model. So we have to take this into account."
      ]
    },
    {
      "cell_type": "markdown",
      "metadata": {
        "id": "GcrUcc3WkRez"
      },
      "source": [
        "**Measure the Correlation**"
      ]
    },
    {
      "cell_type": "code",
      "metadata": {
        "colab": {
          "base_uri": "https://localhost:8080/",
          "height": 328
        },
        "id": "9pMK70u2kSCc",
        "outputId": "92e926d4-ab50-4dc5-bec4-6f769bdc80da"
      },
      "source": [
        "# let's measure that correlation\n",
        "pd_data.corr()"
      ],
      "execution_count": 32,
      "outputs": [
        {
          "output_type": "execute_result",
          "data": {
            "text/html": [
              "<div>\n",
              "<style scoped>\n",
              "    .dataframe tbody tr th:only-of-type {\n",
              "        vertical-align: middle;\n",
              "    }\n",
              "\n",
              "    .dataframe tbody tr th {\n",
              "        vertical-align: top;\n",
              "    }\n",
              "\n",
              "    .dataframe thead th {\n",
              "        text-align: right;\n",
              "    }\n",
              "</style>\n",
              "<table border=\"1\" class=\"dataframe\">\n",
              "  <thead>\n",
              "    <tr style=\"text-align: right;\">\n",
              "      <th></th>\n",
              "      <th>1</th>\n",
              "      <th>2</th>\n",
              "      <th>complexAge</th>\n",
              "      <th>totalRooms</th>\n",
              "      <th>totalBedrooms</th>\n",
              "      <th>complexInhabitants</th>\n",
              "      <th>apartmentsNr</th>\n",
              "      <th>8</th>\n",
              "      <th>medianCompexValue</th>\n",
              "    </tr>\n",
              "  </thead>\n",
              "  <tbody>\n",
              "    <tr>\n",
              "      <th>1</th>\n",
              "      <td>1.000000</td>\n",
              "      <td>-0.924664</td>\n",
              "      <td>-0.108197</td>\n",
              "      <td>0.044568</td>\n",
              "      <td>0.068378</td>\n",
              "      <td>0.099773</td>\n",
              "      <td>0.055310</td>\n",
              "      <td>-0.015176</td>\n",
              "      <td>-0.045967</td>\n",
              "    </tr>\n",
              "    <tr>\n",
              "      <th>2</th>\n",
              "      <td>-0.924664</td>\n",
              "      <td>1.000000</td>\n",
              "      <td>0.011173</td>\n",
              "      <td>-0.036100</td>\n",
              "      <td>-0.066318</td>\n",
              "      <td>-0.108785</td>\n",
              "      <td>-0.071035</td>\n",
              "      <td>-0.079809</td>\n",
              "      <td>-0.144160</td>\n",
              "    </tr>\n",
              "    <tr>\n",
              "      <th>complexAge</th>\n",
              "      <td>-0.108197</td>\n",
              "      <td>0.011173</td>\n",
              "      <td>1.000000</td>\n",
              "      <td>-0.361262</td>\n",
              "      <td>-0.320485</td>\n",
              "      <td>-0.296244</td>\n",
              "      <td>-0.302916</td>\n",
              "      <td>-0.119034</td>\n",
              "      <td>0.105623</td>\n",
              "    </tr>\n",
              "    <tr>\n",
              "      <th>totalRooms</th>\n",
              "      <td>0.044568</td>\n",
              "      <td>-0.036100</td>\n",
              "      <td>-0.361262</td>\n",
              "      <td>1.000000</td>\n",
              "      <td>0.929893</td>\n",
              "      <td>0.857126</td>\n",
              "      <td>0.918484</td>\n",
              "      <td>0.198050</td>\n",
              "      <td>0.134153</td>\n",
              "    </tr>\n",
              "    <tr>\n",
              "      <th>totalBedrooms</th>\n",
              "      <td>0.068378</td>\n",
              "      <td>-0.066318</td>\n",
              "      <td>-0.320485</td>\n",
              "      <td>0.929893</td>\n",
              "      <td>1.000000</td>\n",
              "      <td>0.878026</td>\n",
              "      <td>0.979829</td>\n",
              "      <td>-0.008093</td>\n",
              "      <td>0.050594</td>\n",
              "    </tr>\n",
              "    <tr>\n",
              "      <th>complexInhabitants</th>\n",
              "      <td>0.099773</td>\n",
              "      <td>-0.108785</td>\n",
              "      <td>-0.296244</td>\n",
              "      <td>0.857126</td>\n",
              "      <td>0.878026</td>\n",
              "      <td>1.000000</td>\n",
              "      <td>0.907222</td>\n",
              "      <td>0.004834</td>\n",
              "      <td>-0.024650</td>\n",
              "    </tr>\n",
              "    <tr>\n",
              "      <th>apartmentsNr</th>\n",
              "      <td>0.055310</td>\n",
              "      <td>-0.071035</td>\n",
              "      <td>-0.302916</td>\n",
              "      <td>0.918484</td>\n",
              "      <td>0.979829</td>\n",
              "      <td>0.907222</td>\n",
              "      <td>1.000000</td>\n",
              "      <td>0.013033</td>\n",
              "      <td>0.065843</td>\n",
              "    </tr>\n",
              "    <tr>\n",
              "      <th>8</th>\n",
              "      <td>-0.015176</td>\n",
              "      <td>-0.079809</td>\n",
              "      <td>-0.119034</td>\n",
              "      <td>0.198050</td>\n",
              "      <td>-0.008093</td>\n",
              "      <td>0.004834</td>\n",
              "      <td>0.013033</td>\n",
              "      <td>1.000000</td>\n",
              "      <td>0.688075</td>\n",
              "    </tr>\n",
              "    <tr>\n",
              "      <th>medianCompexValue</th>\n",
              "      <td>-0.045967</td>\n",
              "      <td>-0.144160</td>\n",
              "      <td>0.105623</td>\n",
              "      <td>0.134153</td>\n",
              "      <td>0.050594</td>\n",
              "      <td>-0.024650</td>\n",
              "      <td>0.065843</td>\n",
              "      <td>0.688075</td>\n",
              "      <td>1.000000</td>\n",
              "    </tr>\n",
              "  </tbody>\n",
              "</table>\n",
              "</div>"
            ],
            "text/plain": [
              "                           1         2  ...         8  medianCompexValue\n",
              "1                   1.000000 -0.924664  ... -0.015176          -0.045967\n",
              "2                  -0.924664  1.000000  ... -0.079809          -0.144160\n",
              "complexAge         -0.108197  0.011173  ... -0.119034           0.105623\n",
              "totalRooms          0.044568 -0.036100  ...  0.198050           0.134153\n",
              "totalBedrooms       0.068378 -0.066318  ... -0.008093           0.050594\n",
              "complexInhabitants  0.099773 -0.108785  ...  0.004834          -0.024650\n",
              "apartmentsNr        0.055310 -0.071035  ...  0.013033           0.065843\n",
              "8                  -0.015176 -0.079809  ...  1.000000           0.688075\n",
              "medianCompexValue  -0.045967 -0.144160  ...  0.688075           1.000000\n",
              "\n",
              "[9 rows x 9 columns]"
            ]
          },
          "metadata": {
            "tags": []
          },
          "execution_count": 32
        }
      ]
    },
    {
      "cell_type": "markdown",
      "metadata": {
        "id": "DWDPg8PBke6H"
      },
      "source": [
        "\n",
        "Okay, so there is a correlation and a strong one at that. Generally speaking, this is how we measure the strength of correlations.\n",
        "\n",
        "* Very strong relationship (|r|>0.8 =>)\n",
        "* Strong relationship (0.6≤|r|)\n",
        "* Moderate relationship (0.4≤|r|)\n",
        "* Weak relationship (0.2≤|r|)\n",
        "* Very weak relationship (|r|)\n"
      ]
    },
    {
      "cell_type": "markdown",
      "metadata": {
        "id": "xxr6ij78ktfV"
      },
      "source": [
        "Now, we've demonstrated that the 8th column hs the strogens corelation, wchich is 0.688075."
      ]
    },
    {
      "cell_type": "markdown",
      "metadata": {
        "id": "VMBkQbHdlOId"
      },
      "source": [
        "**Create a Statistical Summary**"
      ]
    },
    {
      "cell_type": "markdown",
      "metadata": {
        "id": "DqWU2-p2lVc-"
      },
      "source": [
        "Okay, so we see there is a correlation let us create a statistical summary to help describe the dataset. We will use the describe() method to output a DataFrame with all this info. This will help us have a general idea about how the data is distribured."
      ]
    },
    {
      "cell_type": "code",
      "metadata": {
        "colab": {
          "base_uri": "https://localhost:8080/",
          "height": 297
        },
        "id": "-_LUZrPylYHX",
        "outputId": "328dc043-5dcf-48e4-e1a0-5a3ca78018cf"
      },
      "source": [
        "# let's take a look at a statistical summary.\n",
        "pd_data.describe()"
      ],
      "execution_count": 34,
      "outputs": [
        {
          "output_type": "execute_result",
          "data": {
            "text/html": [
              "<div>\n",
              "<style scoped>\n",
              "    .dataframe tbody tr th:only-of-type {\n",
              "        vertical-align: middle;\n",
              "    }\n",
              "\n",
              "    .dataframe tbody tr th {\n",
              "        vertical-align: top;\n",
              "    }\n",
              "\n",
              "    .dataframe thead th {\n",
              "        text-align: right;\n",
              "    }\n",
              "</style>\n",
              "<table border=\"1\" class=\"dataframe\">\n",
              "  <thead>\n",
              "    <tr style=\"text-align: right;\">\n",
              "      <th></th>\n",
              "      <th>1</th>\n",
              "      <th>2</th>\n",
              "      <th>complexAge</th>\n",
              "      <th>totalRooms</th>\n",
              "      <th>totalBedrooms</th>\n",
              "      <th>complexInhabitants</th>\n",
              "      <th>apartmentsNr</th>\n",
              "      <th>8</th>\n",
              "      <th>medianCompexValue</th>\n",
              "    </tr>\n",
              "  </thead>\n",
              "  <tbody>\n",
              "    <tr>\n",
              "      <th>count</th>\n",
              "      <td>20640.000000</td>\n",
              "      <td>20640.000000</td>\n",
              "      <td>20640.000000</td>\n",
              "      <td>20640.000000</td>\n",
              "      <td>20640.000000</td>\n",
              "      <td>20640.000000</td>\n",
              "      <td>20640.000000</td>\n",
              "      <td>20640.000000</td>\n",
              "      <td>20640.000000</td>\n",
              "    </tr>\n",
              "    <tr>\n",
              "      <th>mean</th>\n",
              "      <td>-119.569704</td>\n",
              "      <td>35.631861</td>\n",
              "      <td>28.639486</td>\n",
              "      <td>2635.763081</td>\n",
              "      <td>537.898014</td>\n",
              "      <td>1425.476744</td>\n",
              "      <td>499.539680</td>\n",
              "      <td>3.870671</td>\n",
              "      <td>206855.816909</td>\n",
              "    </tr>\n",
              "    <tr>\n",
              "      <th>std</th>\n",
              "      <td>2.003532</td>\n",
              "      <td>2.135952</td>\n",
              "      <td>12.585558</td>\n",
              "      <td>2181.615252</td>\n",
              "      <td>421.247906</td>\n",
              "      <td>1132.462122</td>\n",
              "      <td>382.329753</td>\n",
              "      <td>1.899822</td>\n",
              "      <td>115395.615874</td>\n",
              "    </tr>\n",
              "    <tr>\n",
              "      <th>min</th>\n",
              "      <td>-124.350000</td>\n",
              "      <td>32.540000</td>\n",
              "      <td>1.000000</td>\n",
              "      <td>2.000000</td>\n",
              "      <td>1.000000</td>\n",
              "      <td>3.000000</td>\n",
              "      <td>1.000000</td>\n",
              "      <td>0.499900</td>\n",
              "      <td>14999.000000</td>\n",
              "    </tr>\n",
              "    <tr>\n",
              "      <th>25%</th>\n",
              "      <td>-121.800000</td>\n",
              "      <td>33.930000</td>\n",
              "      <td>18.000000</td>\n",
              "      <td>1447.750000</td>\n",
              "      <td>295.000000</td>\n",
              "      <td>787.000000</td>\n",
              "      <td>280.000000</td>\n",
              "      <td>2.563400</td>\n",
              "      <td>119600.000000</td>\n",
              "    </tr>\n",
              "    <tr>\n",
              "      <th>50%</th>\n",
              "      <td>-118.490000</td>\n",
              "      <td>34.260000</td>\n",
              "      <td>29.000000</td>\n",
              "      <td>2127.000000</td>\n",
              "      <td>435.000000</td>\n",
              "      <td>1166.000000</td>\n",
              "      <td>409.000000</td>\n",
              "      <td>3.534800</td>\n",
              "      <td>179700.000000</td>\n",
              "    </tr>\n",
              "    <tr>\n",
              "      <th>75%</th>\n",
              "      <td>-118.010000</td>\n",
              "      <td>37.710000</td>\n",
              "      <td>37.000000</td>\n",
              "      <td>3148.000000</td>\n",
              "      <td>647.000000</td>\n",
              "      <td>1725.000000</td>\n",
              "      <td>605.000000</td>\n",
              "      <td>4.743250</td>\n",
              "      <td>264725.000000</td>\n",
              "    </tr>\n",
              "    <tr>\n",
              "      <th>max</th>\n",
              "      <td>-114.310000</td>\n",
              "      <td>41.950000</td>\n",
              "      <td>52.000000</td>\n",
              "      <td>39320.000000</td>\n",
              "      <td>6445.000000</td>\n",
              "      <td>35682.000000</td>\n",
              "      <td>6082.000000</td>\n",
              "      <td>15.000100</td>\n",
              "      <td>500001.000000</td>\n",
              "    </tr>\n",
              "  </tbody>\n",
              "</table>\n",
              "</div>"
            ],
            "text/plain": [
              "                  1             2  ...             8  medianCompexValue\n",
              "count  20640.000000  20640.000000  ...  20640.000000       20640.000000\n",
              "mean    -119.569704     35.631861  ...      3.870671      206855.816909\n",
              "std        2.003532      2.135952  ...      1.899822      115395.615874\n",
              "min     -124.350000     32.540000  ...      0.499900       14999.000000\n",
              "25%     -121.800000     33.930000  ...      2.563400      119600.000000\n",
              "50%     -118.490000     34.260000  ...      3.534800      179700.000000\n",
              "75%     -118.010000     37.710000  ...      4.743250      264725.000000\n",
              "max     -114.310000     41.950000  ...     15.000100      500001.000000\n",
              "\n",
              "[8 rows x 9 columns]"
            ]
          },
          "metadata": {
            "tags": []
          },
          "execution_count": 34
        }
      ]
    },
    {
      "cell_type": "markdown",
      "metadata": {
        "id": "AQpxV2Cwmy6K"
      },
      "source": [
        "**Split the Data**\n",
        "\n",
        "The first thing we need to do before training the model is split the data into a training set and a test set. The training set is what we will train the model on and the test set is what we will test it on. The convention is to have 20% dedicated to testing and the remaining 80% to training, but these are not hard limits."
      ]
    },
    {
      "cell_type": "code",
      "metadata": {
        "id": "ev1GW99DnFdr"
      },
      "source": [
        "# take randomly 80% of the data for training purposes\n",
        "# and the ramaining 20% remain for test purposes\n",
        "msk = np.random.rand(len(pd_data)) < 0.8\n",
        "train_data = pd_data[msk]\n",
        "test_data = pd_data[~msk]"
      ],
      "execution_count": 37,
      "outputs": []
    },
    {
      "cell_type": "markdown",
      "metadata": {
        "id": "Fwx5Au74nHge"
      },
      "source": [
        "**Create & Fit the model**\n",
        "\n",
        "We used the linear_model.LinearReggression() from sklearn to create our linear regresion model. The fit() method is used to train the model. As we can see, all 8 columns were used at the training phase and most important - column 8 should be used, because it has a bigger correlation with the medianComplexValue. The fit() method takes two arguments. the first one represents the variables and the second one represents the true vaues."
      ]
    },
    {
      "cell_type": "code",
      "metadata": {
        "colab": {
          "base_uri": "https://localhost:8080/"
        },
        "id": "PQzwPm7fnfFm",
        "outputId": "c74213c2-b743-4691-b599-ac220177216e"
      },
      "source": [
        "reg = linear_model.LinearRegression()\n",
        "reg.fit(\n",
        "    train_data[[\n",
        "      '1',\n",
        "      '2',\n",
        "      'complexAge',\n",
        "      'totalRooms',\n",
        "      'totalBedrooms',\n",
        "      'complexInhabitants',\n",
        "      'apartmentsNr',\n",
        "      '8',\n",
        "    ]], \n",
        "    train_data[['medianCompexValue']]\n",
        ")"
      ],
      "execution_count": 36,
      "outputs": [
        {
          "output_type": "execute_result",
          "data": {
            "text/plain": [
              "LinearRegression(copy_X=True, fit_intercept=True, n_jobs=None, normalize=False)"
            ]
          },
          "metadata": {
            "tags": []
          },
          "execution_count": 36
        }
      ]
    },
    {
      "cell_type": "markdown",
      "metadata": {
        "id": "T3TyKr2lom1d"
      },
      "source": [
        "**Making Multiple Predictions at Once**\n",
        "\n",
        "Now we use those 20% of testing data to make predictions."
      ]
    },
    {
      "cell_type": "code",
      "metadata": {
        "colab": {
          "base_uri": "https://localhost:8080/"
        },
        "id": "Xe1yH_IzoyDV",
        "outputId": "07e9c151-cd8d-4c6a-c79f-c909fafc5a3b"
      },
      "source": [
        "test_predictions = reg.predict(\n",
        "    test_data[[\n",
        "      '1',\n",
        "      '2',\n",
        "      'complexAge',\n",
        "      'totalRooms',\n",
        "      'totalBedrooms',\n",
        "      'complexInhabitants',\n",
        "      'apartmentsNr',\n",
        "      '8'   \n",
        "    ]]\n",
        ")\n",
        "\n",
        "test_predictions"
      ],
      "execution_count": 42,
      "outputs": [
        {
          "output_type": "execute_result",
          "data": {
            "text/plain": [
              "array([[261231.18197458],\n",
              "       [254395.75319929],\n",
              "       [157310.67789154],\n",
              "       ...,\n",
              "       [ 41412.94803451],\n",
              "       [ 42374.80556161],\n",
              "       [ 93328.59794774]])"
            ]
          },
          "metadata": {
            "tags": []
          },
          "execution_count": 42
        }
      ]
    },
    {
      "cell_type": "markdown",
      "metadata": {
        "id": "mV1OiZ3zp6bI"
      },
      "source": [
        "**R-Squared**\n",
        "\n",
        "The R-Squared metric provides us a way to measure the goodness of fit or how well our data fits the model. The higher the R-Squared metric, the better the data fit our model. However, we have to know the limitations of R-Square. One limitation is that R-Square increases as the number of feature increases in our model, so it does not pay to select the model with the highest R-Square. A more popular metric is the adjusted R-Square which penalizes more complex models. Let us calculate both."
      ]
    },
    {
      "cell_type": "code",
      "metadata": {
        "colab": {
          "base_uri": "https://localhost:8080/"
        },
        "id": "pG-9ihCdp-Fn",
        "outputId": "ea3fd810-577c-47d4-fdea-802f7b01b11d"
      },
      "source": [
        "r2score = r2_score(y_true, y_pred)\n",
        "print(\"r2_score = \", r2score)"
      ],
      "execution_count": 45,
      "outputs": [
        {
          "output_type": "stream",
          "text": [
            "r2_score =  0.6255829412048007\n"
          ],
          "name": "stdout"
        }
      ]
    },
    {
      "cell_type": "markdown",
      "metadata": {
        "id": "LpuETN9mq7nb"
      },
      "source": [
        "**Plot the prediction**\n",
        "\n",
        "To plot the prediction we will use only the variables from the 8th column, because they have a clear direction of distribution.\n",
        "\n",
        "We will plot the testing data with its true values and then with blue we will plot the testing data with the predicted values."
      ]
    },
    {
      "cell_type": "code",
      "metadata": {
        "colab": {
          "base_uri": "https://localhost:8080/",
          "height": 265
        },
        "id": "bIWT5ApNrQ40",
        "outputId": "2f6bba46-d8de-47ea-cd04-803343179aba"
      },
      "source": [
        "plt.scatter(test_data[['8']], test_data[['medianCompexValue']],  color='gainsboro')\n",
        "plt.plot(test_data[['8']], test_predictions, color='royalblue', linewidth = 1, linestyle= '-')\n",
        "plt.show()"
      ],
      "execution_count": 51,
      "outputs": [
        {
          "output_type": "display_data",
          "data": {
            "image/png": "[encoded data removed]",
            "text/plain": [
              "<Figure size 432x288 with 1 Axes>"
            ]
          },
          "metadata": {
            "tags": [],
            "needs_background": "light"
          }
        }
      ]
    },
    {
      "cell_type": "markdown",
      "metadata": {
        "id": "c8lwGglzrz-M"
      },
      "source": [
        "**Other measurements**"
      ]
    },
    {
      "cell_type": "code",
      "metadata": {
        "colab": {
          "base_uri": "https://localhost:8080/"
        },
        "id": "QSUTkSN6r10B",
        "outputId": "fb478971-4e1f-4e16-e5c6-167b71abf908"
      },
      "source": [
        "variance = explained_variance_score(y_true, y_pred)\n",
        "print(\"explained_variance_score = \", variance)\n",
        "\n",
        "max_err = max_error(y_true, y_pred)\n",
        "print(\"max_error = \", max_err)\n",
        "\n",
        "r2score = r2_score(y_true, y_pred)\n",
        "print(\"r2_score = \", r2score)\n",
        "\n",
        "mse = mean_squared_error(y_true, y_pred)\n",
        "print(\"mean_squared_error = \", mse)\n",
        "\n",
        "mae = mean_absolute_error(y_true, y_pred)\n",
        "print(\"mean_absolute_error = \", mae)"
      ],
      "execution_count": 52,
      "outputs": [
        {
          "output_type": "stream",
          "text": [
            "explained_variance_score =  0.6298200606688624\n",
            "max_error =  438435.776657823\n",
            "r2_score =  0.629817486179757\n",
            "mean_squared_error =  4903325354.047457\n",
            "mean_absolute_error =  51059.171527043225\n"
          ],
          "name": "stdout"
        }
      ]
    }
  ]
}