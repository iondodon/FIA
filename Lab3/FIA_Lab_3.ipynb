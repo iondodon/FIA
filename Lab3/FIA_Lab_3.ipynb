{
  "nbformat": 4,
  "nbformat_minor": 0,
  "metadata": {
    "colab": {
      "name": "FIA_Lab_3.ipynb",
      "provenance": [],
      "collapsed_sections": []
    },
    "kernelspec": {
      "name": "python3",
      "display_name": "Python 3"
    }
  },
  "cells": [
    {
      "cell_type": "markdown",
      "metadata": {
        "id": "iR4R9LXBamK4"
      },
      "source": [
        "First of all we have to import the libraries that we need in order to perform the linear regression. \n",
        "\n",
        "\n",
        "*   pandas - used to work work with data in a table manner\n",
        "*   numpy  - used to work with arrays, numbers\n",
        "*   sklearn - the library that offers us the posibility to create a linear regression model\n",
        "*   sklearn.metrics - functions used to measure the metrics of the linear regresion model\n",
        "*   matplotlib.pyplot - used to plot grafs\n",
        "\n"
      ]
    },
    {
      "cell_type": "code",
      "metadata": {
        "id": "9DB4lirgajeA"
      },
      "source": [
        "import pandas as pd\n",
        "import numpy as np\n",
        "from sklearn import linear_model\n",
        "from sklearn.metrics import *\n",
        "import matplotlib.pyplot as plt\n",
        "from sklearn import preprocessing"
      ],
      "execution_count": 60,
      "outputs": []
    },
    {
      "cell_type": "markdown",
      "metadata": {
        "id": "APPKjFE7bus4"
      },
      "source": [
        "After we have imported the librarie, we need to read our data from a .txt file. We read it using pandas. Pandas will create a dataFrame which will represent a table. When we read it, we can also specify the names for the columns and later we can use these names to retrieve partial data from the table. The column that we know what they represent are: complexAge, totalRooms, totalBedrooms, complexInhabitats, aprtmentNr and medianComplexValue. The medianComplexValue is the one that depends on the orher ones and we whould predict this values using our linear regression model."
      ]
    },
    {
      "cell_type": "code",
      "metadata": {
        "id": "Q3NPnYLwbyYI"
      },
      "source": [
        "pd_data = pd.read_csv(\n",
        "    'apartmentComplexData.txt', \n",
        "    delimiter=',' \n",
        ")"
      ],
      "execution_count": 66,
      "outputs": []
    },
    {
      "cell_type": "markdown",
      "metadata": {
        "id": "Xvw5x-599BN0"
      },
      "source": [
        "**Normalization**\n",
        "\n",
        "We use the package sklearn and its associated preprocessing utilities to normalize the data."
      ]
    },
    {
      "cell_type": "code",
      "metadata": {
        "colab": {
          "base_uri": "https://localhost:8080/",
          "height": 419
        },
        "id": "i2JB_P0F9EzL",
        "outputId": "359722c8-f2a6-4d17-8475-e78d43252486"
      },
      "source": [
        "data = pd_data.values #returns a numpy array\n",
        "min_max_scaler = preprocessing.MinMaxScaler()\n",
        "data_scaled = min_max_scaler.fit_transform(data)\n",
        "pd_data = pd.DataFrame(data_scaled)\n",
        "\n",
        "pd_data.columns = [\n",
        "      '1',\n",
        "      '2',\n",
        "      'complexAge',\n",
        "      'totalRooms',\n",
        "      'totalBedrooms',\n",
        "      'complexInhabitants',\n",
        "      'apartmentsNr',\n",
        "      '8',\n",
        "      'medianCompexValue'\n",
        "]\n",
        "\n",
        "pd_data"
      ],
      "execution_count": 67,
      "outputs": [
        {
          "output_type": "execute_result",
          "data": {
            "text/html": [
              "<div>\n",
              "<style scoped>\n",
              "    .dataframe tbody tr th:only-of-type {\n",
              "        vertical-align: middle;\n",
              "    }\n",
              "\n",
              "    .dataframe tbody tr th {\n",
              "        vertical-align: top;\n",
              "    }\n",
              "\n",
              "    .dataframe thead th {\n",
              "        text-align: right;\n",
              "    }\n",
              "</style>\n",
              "<table border=\"1\" class=\"dataframe\">\n",
              "  <thead>\n",
              "    <tr style=\"text-align: right;\">\n",
              "      <th></th>\n",
              "      <th>1</th>\n",
              "      <th>2</th>\n",
              "      <th>complexAge</th>\n",
              "      <th>totalRooms</th>\n",
              "      <th>totalBedrooms</th>\n",
              "      <th>complexInhabitants</th>\n",
              "      <th>apartmentsNr</th>\n",
              "      <th>8</th>\n",
              "      <th>medianCompexValue</th>\n",
              "    </tr>\n",
              "  </thead>\n",
              "  <tbody>\n",
              "    <tr>\n",
              "      <th>0</th>\n",
              "      <td>0.212151</td>\n",
              "      <td>0.565356</td>\n",
              "      <td>0.392157</td>\n",
              "      <td>0.180503</td>\n",
              "      <td>0.171477</td>\n",
              "      <td>0.067210</td>\n",
              "      <td>0.186976</td>\n",
              "      <td>0.538027</td>\n",
              "      <td>0.708247</td>\n",
              "    </tr>\n",
              "    <tr>\n",
              "      <th>1</th>\n",
              "      <td>0.210159</td>\n",
              "      <td>0.564293</td>\n",
              "      <td>1.000000</td>\n",
              "      <td>0.037260</td>\n",
              "      <td>0.029330</td>\n",
              "      <td>0.013818</td>\n",
              "      <td>0.028943</td>\n",
              "      <td>0.466028</td>\n",
              "      <td>0.695051</td>\n",
              "    </tr>\n",
              "    <tr>\n",
              "      <th>2</th>\n",
              "      <td>0.209163</td>\n",
              "      <td>0.564293</td>\n",
              "      <td>1.000000</td>\n",
              "      <td>0.032352</td>\n",
              "      <td>0.036313</td>\n",
              "      <td>0.015555</td>\n",
              "      <td>0.035849</td>\n",
              "      <td>0.354699</td>\n",
              "      <td>0.672783</td>\n",
              "    </tr>\n",
              "    <tr>\n",
              "      <th>3</th>\n",
              "      <td>0.209163</td>\n",
              "      <td>0.564293</td>\n",
              "      <td>1.000000</td>\n",
              "      <td>0.041330</td>\n",
              "      <td>0.043296</td>\n",
              "      <td>0.015752</td>\n",
              "      <td>0.042427</td>\n",
              "      <td>0.230776</td>\n",
              "      <td>0.674638</td>\n",
              "    </tr>\n",
              "    <tr>\n",
              "      <th>4</th>\n",
              "      <td>0.209163</td>\n",
              "      <td>0.564293</td>\n",
              "      <td>1.000000</td>\n",
              "      <td>0.023323</td>\n",
              "      <td>0.032899</td>\n",
              "      <td>0.011491</td>\n",
              "      <td>0.031574</td>\n",
              "      <td>0.243921</td>\n",
              "      <td>0.525155</td>\n",
              "    </tr>\n",
              "    <tr>\n",
              "      <th>...</th>\n",
              "      <td>...</td>\n",
              "      <td>...</td>\n",
              "      <td>...</td>\n",
              "      <td>...</td>\n",
              "      <td>...</td>\n",
              "      <td>...</td>\n",
              "      <td>...</td>\n",
              "      <td>...</td>\n",
              "      <td>...</td>\n",
              "    </tr>\n",
              "    <tr>\n",
              "      <th>20634</th>\n",
              "      <td>0.324701</td>\n",
              "      <td>0.737513</td>\n",
              "      <td>0.470588</td>\n",
              "      <td>0.042296</td>\n",
              "      <td>0.057883</td>\n",
              "      <td>0.023599</td>\n",
              "      <td>0.054103</td>\n",
              "      <td>0.073130</td>\n",
              "      <td>0.130105</td>\n",
              "    </tr>\n",
              "    <tr>\n",
              "      <th>20635</th>\n",
              "      <td>0.312749</td>\n",
              "      <td>0.738576</td>\n",
              "      <td>0.333333</td>\n",
              "      <td>0.017676</td>\n",
              "      <td>0.023122</td>\n",
              "      <td>0.009894</td>\n",
              "      <td>0.018582</td>\n",
              "      <td>0.141853</td>\n",
              "      <td>0.128043</td>\n",
              "    </tr>\n",
              "    <tr>\n",
              "      <th>20636</th>\n",
              "      <td>0.311753</td>\n",
              "      <td>0.732200</td>\n",
              "      <td>0.313725</td>\n",
              "      <td>0.057277</td>\n",
              "      <td>0.075109</td>\n",
              "      <td>0.028140</td>\n",
              "      <td>0.071041</td>\n",
              "      <td>0.082764</td>\n",
              "      <td>0.159383</td>\n",
              "    </tr>\n",
              "    <tr>\n",
              "      <th>20637</th>\n",
              "      <td>0.301793</td>\n",
              "      <td>0.732200</td>\n",
              "      <td>0.333333</td>\n",
              "      <td>0.047256</td>\n",
              "      <td>0.063315</td>\n",
              "      <td>0.020684</td>\n",
              "      <td>0.057227</td>\n",
              "      <td>0.094295</td>\n",
              "      <td>0.143713</td>\n",
              "    </tr>\n",
              "    <tr>\n",
              "      <th>20638</th>\n",
              "      <td>0.309761</td>\n",
              "      <td>0.725824</td>\n",
              "      <td>0.294118</td>\n",
              "      <td>0.070782</td>\n",
              "      <td>0.095438</td>\n",
              "      <td>0.038790</td>\n",
              "      <td>0.086992</td>\n",
              "      <td>0.130253</td>\n",
              "      <td>0.153403</td>\n",
              "    </tr>\n",
              "  </tbody>\n",
              "</table>\n",
              "<p>20639 rows × 9 columns</p>\n",
              "</div>"
            ],
            "text/plain": [
              "              1         2  ...         8  medianCompexValue\n",
              "0      0.212151  0.565356  ...  0.538027           0.708247\n",
              "1      0.210159  0.564293  ...  0.466028           0.695051\n",
              "2      0.209163  0.564293  ...  0.354699           0.672783\n",
              "3      0.209163  0.564293  ...  0.230776           0.674638\n",
              "4      0.209163  0.564293  ...  0.243921           0.525155\n",
              "...         ...       ...  ...       ...                ...\n",
              "20634  0.324701  0.737513  ...  0.073130           0.130105\n",
              "20635  0.312749  0.738576  ...  0.141853           0.128043\n",
              "20636  0.311753  0.732200  ...  0.082764           0.159383\n",
              "20637  0.301793  0.732200  ...  0.094295           0.143713\n",
              "20638  0.309761  0.725824  ...  0.130253           0.153403\n",
              "\n",
              "[20639 rows x 9 columns]"
            ]
          },
          "metadata": {
            "tags": []
          },
          "execution_count": 67
        }
      ]
    },
    {
      "cell_type": "code",
      "metadata": {
        "id": "A5Brk-Dw-Vwr"
      },
      "source": [
        ""
      ],
      "execution_count": null,
      "outputs": []
    },
    {
      "cell_type": "markdown",
      "metadata": {
        "id": "i6ZK2-t2c4Yh"
      },
      "source": [
        "The medianComplexValue depends on more values, not just one. Some of those columns have a bigger impact on the medianComplexValue especially when the model is beeing trained. We have to detemine what column are significant for the medianComplexValue. To see the corelation between each variable and the medianComplexValue we will plot on the x axis the variable and on the y axis the medianComplexValue. The graf will show us how the y changes in corelation to x. All variables should be tested, but for demonstration purposes we will show just some of them to explain the importance of these variables.\n",
        "\n",
        "\n",
        "As we can see in the plots bellow, in the first plot, where we have complexInhabitats on x and medianComplexValue on y, the x axis takes values mostly from 0 to 0.4 while on the y axis the values cover all the range of y axis. \n",
        "\n",
        "From the plot we can conclude that the medianComplexValue is evenly distributed, or, it does not have a direction. But, as we will see in the next examples, there is a varaible that makes medianComlValue go in one direction."
      ]
    },
    {
      "cell_type": "code",
      "metadata": {
        "colab": {
          "base_uri": "https://localhost:8080/",
          "height": 312
        },
        "id": "_PvW2fbYcxOM",
        "outputId": "58285754-81b4-44f8-aced-29f55725e3e2"
      },
      "source": [
        "x = pd_data['complexInhabitants']\n",
        "y = pd_data['medianCompexValue']\n",
        "\n",
        "plt.plot(x, y, 'o', color ='cadetblue')\n",
        "\n",
        "plt.title(\"complexInhabitants vs medianCompexValue\")\n",
        "plt.xlabel(\"complexInhabitants\")\n",
        "plt.ylabel(\"medianCompexValue\")\n",
        "plt.legend()\n",
        "\n",
        "plt.show()\n"
      ],
      "execution_count": 68,
      "outputs": [
        {
          "output_type": "stream",
          "text": [
            "No handles with labels found to put in legend.\n"
          ],
          "name": "stderr"
        },
        {
          "output_type": "display_data",
          "data": {
            "image/png": "[encoded data removed]",
            "text/plain": [
              "<Figure size 432x288 with 1 Axes>"
            ]
          },
          "metadata": {
            "tags": [],
            "needs_background": "light"
          }
        }
      ]
    },
    {
      "cell_type": "markdown",
      "metadata": {
        "id": "waxPVDlcjZMz"
      },
      "source": [
        "In the second graf, we ploted on the x axis the values from the 8th column and on the y axis the median complex value. The difference between this plot and the previous one is that the distribution of values has a clear slope. Or, in other words, there is a positive relation between them. Clearly we can see the there is a corelation between the 8th column and the medianComplexValue."
      ]
    },
    {
      "cell_type": "code",
      "metadata": {
        "colab": {
          "base_uri": "https://localhost:8080/",
          "height": 312
        },
        "id": "Jt1Ra4QkjgX8",
        "outputId": "23f721ed-54a7-4fb2-b215-9991fb4c670f"
      },
      "source": [
        "x = pd_data['8']\n",
        "y = pd_data['medianCompexValue']\n",
        "\n",
        "plt.plot(x, y, 'o', color ='cadetblue')\n",
        "\n",
        "plt.title(\"Column 8 vs medianCompexValue\")\n",
        "plt.xlabel(\"Column 8\")\n",
        "plt.ylabel(\"medianCompexValue\")\n",
        "plt.legend()\n",
        "\n",
        "plt.show()"
      ],
      "execution_count": 69,
      "outputs": [
        {
          "output_type": "stream",
          "text": [
            "No handles with labels found to put in legend.\n"
          ],
          "name": "stderr"
        },
        {
          "output_type": "display_data",
          "data": {
            "image/png": "[encoded data removed]",
            "text/plain": [
              "<Figure size 432x288 with 1 Axes>"
            ]
          },
          "metadata": {
            "tags": [],
            "needs_background": "light"
          }
        }
      ]
    },
    {
      "cell_type": "markdown",
      "metadata": {
        "id": "NzUeNf9bjqyV"
      },
      "source": [
        "Now, we know that the 8th column is important in the process of training out linear regression model. So we have to take this into account."
      ]
    },
    {
      "cell_type": "markdown",
      "metadata": {
        "id": "GcrUcc3WkRez"
      },
      "source": [
        "**Measure the Correlation**"
      ]
    },
    {
      "cell_type": "code",
      "metadata": {
        "colab": {
          "base_uri": "https://localhost:8080/",
          "height": 328
        },
        "id": "9pMK70u2kSCc",
        "outputId": "72946e77-bd10-4863-a964-9703bae469f4"
      },
      "source": [
        "# let's measure that correlation\n",
        "pd_data.corr()"
      ],
      "execution_count": 70,
      "outputs": [
        {
          "output_type": "execute_result",
          "data": {
            "text/html": [
              "<div>\n",
              "<style scoped>\n",
              "    .dataframe tbody tr th:only-of-type {\n",
              "        vertical-align: middle;\n",
              "    }\n",
              "\n",
              "    .dataframe tbody tr th {\n",
              "        vertical-align: top;\n",
              "    }\n",
              "\n",
              "    .dataframe thead th {\n",
              "        text-align: right;\n",
              "    }\n",
              "</style>\n",
              "<table border=\"1\" class=\"dataframe\">\n",
              "  <thead>\n",
              "    <tr style=\"text-align: right;\">\n",
              "      <th></th>\n",
              "      <th>1</th>\n",
              "      <th>2</th>\n",
              "      <th>complexAge</th>\n",
              "      <th>totalRooms</th>\n",
              "      <th>totalBedrooms</th>\n",
              "      <th>complexInhabitants</th>\n",
              "      <th>apartmentsNr</th>\n",
              "      <th>8</th>\n",
              "      <th>medianCompexValue</th>\n",
              "    </tr>\n",
              "  </thead>\n",
              "  <tbody>\n",
              "    <tr>\n",
              "      <th>1</th>\n",
              "      <td>1.000000</td>\n",
              "      <td>-0.924661</td>\n",
              "      <td>-0.108141</td>\n",
              "      <td>0.044519</td>\n",
              "      <td>0.068320</td>\n",
              "      <td>0.099717</td>\n",
              "      <td>0.055251</td>\n",
              "      <td>-0.015028</td>\n",
              "      <td>-0.045837</td>\n",
              "    </tr>\n",
              "    <tr>\n",
              "      <th>2</th>\n",
              "      <td>-0.924661</td>\n",
              "      <td>1.000000</td>\n",
              "      <td>0.011123</td>\n",
              "      <td>-0.036060</td>\n",
              "      <td>-0.066272</td>\n",
              "      <td>-0.108740</td>\n",
              "      <td>-0.070989</td>\n",
              "      <td>-0.079941</td>\n",
              "      <td>-0.144289</td>\n",
              "    </tr>\n",
              "    <tr>\n",
              "      <th>complexAge</th>\n",
              "      <td>-0.108141</td>\n",
              "      <td>0.011123</td>\n",
              "      <td>1.000000</td>\n",
              "      <td>-0.361238</td>\n",
              "      <td>-0.320453</td>\n",
              "      <td>-0.296212</td>\n",
              "      <td>-0.302884</td>\n",
              "      <td>-0.119164</td>\n",
              "      <td>0.105536</td>\n",
              "    </tr>\n",
              "    <tr>\n",
              "      <th>totalRooms</th>\n",
              "      <td>0.044519</td>\n",
              "      <td>-0.036060</td>\n",
              "      <td>-0.361238</td>\n",
              "      <td>1.000000</td>\n",
              "      <td>0.929891</td>\n",
              "      <td>0.857121</td>\n",
              "      <td>0.918482</td>\n",
              "      <td>0.198171</td>\n",
              "      <td>0.134253</td>\n",
              "    </tr>\n",
              "    <tr>\n",
              "      <th>totalBedrooms</th>\n",
              "      <td>0.068320</td>\n",
              "      <td>-0.066272</td>\n",
              "      <td>-0.320453</td>\n",
              "      <td>0.929891</td>\n",
              "      <td>1.000000</td>\n",
              "      <td>0.878020</td>\n",
              "      <td>0.979828</td>\n",
              "      <td>-0.007984</td>\n",
              "      <td>0.050701</td>\n",
              "    </tr>\n",
              "    <tr>\n",
              "      <th>complexInhabitants</th>\n",
              "      <td>0.099717</td>\n",
              "      <td>-0.108740</td>\n",
              "      <td>-0.296212</td>\n",
              "      <td>0.857121</td>\n",
              "      <td>0.878020</td>\n",
              "      <td>1.000000</td>\n",
              "      <td>0.907218</td>\n",
              "      <td>0.004946</td>\n",
              "      <td>-0.024552</td>\n",
              "    </tr>\n",
              "    <tr>\n",
              "      <th>apartmentsNr</th>\n",
              "      <td>0.055251</td>\n",
              "      <td>-0.070989</td>\n",
              "      <td>-0.302884</td>\n",
              "      <td>0.918482</td>\n",
              "      <td>0.979828</td>\n",
              "      <td>0.907218</td>\n",
              "      <td>1.000000</td>\n",
              "      <td>0.013146</td>\n",
              "      <td>0.065952</td>\n",
              "    </tr>\n",
              "    <tr>\n",
              "      <th>8</th>\n",
              "      <td>-0.015028</td>\n",
              "      <td>-0.079941</td>\n",
              "      <td>-0.119164</td>\n",
              "      <td>0.198171</td>\n",
              "      <td>-0.007984</td>\n",
              "      <td>0.004946</td>\n",
              "      <td>0.013146</td>\n",
              "      <td>1.000000</td>\n",
              "      <td>0.688000</td>\n",
              "    </tr>\n",
              "    <tr>\n",
              "      <th>medianCompexValue</th>\n",
              "      <td>-0.045837</td>\n",
              "      <td>-0.144289</td>\n",
              "      <td>0.105536</td>\n",
              "      <td>0.134253</td>\n",
              "      <td>0.050701</td>\n",
              "      <td>-0.024552</td>\n",
              "      <td>0.065952</td>\n",
              "      <td>0.688000</td>\n",
              "      <td>1.000000</td>\n",
              "    </tr>\n",
              "  </tbody>\n",
              "</table>\n",
              "</div>"
            ],
            "text/plain": [
              "                           1         2  ...         8  medianCompexValue\n",
              "1                   1.000000 -0.924661  ... -0.015028          -0.045837\n",
              "2                  -0.924661  1.000000  ... -0.079941          -0.144289\n",
              "complexAge         -0.108141  0.011123  ... -0.119164           0.105536\n",
              "totalRooms          0.044519 -0.036060  ...  0.198171           0.134253\n",
              "totalBedrooms       0.068320 -0.066272  ... -0.007984           0.050701\n",
              "complexInhabitants  0.099717 -0.108740  ...  0.004946          -0.024552\n",
              "apartmentsNr        0.055251 -0.070989  ...  0.013146           0.065952\n",
              "8                  -0.015028 -0.079941  ...  1.000000           0.688000\n",
              "medianCompexValue  -0.045837 -0.144289  ...  0.688000           1.000000\n",
              "\n",
              "[9 rows x 9 columns]"
            ]
          },
          "metadata": {
            "tags": []
          },
          "execution_count": 70
        }
      ]
    },
    {
      "cell_type": "markdown",
      "metadata": {
        "id": "DWDPg8PBke6H"
      },
      "source": [
        "\n",
        "Okay, so there is a correlation and a strong one at that. Generally speaking, this is how we measure the strength of correlations.\n",
        "\n",
        "* Very strong relationship (|r|>0.8 =>)\n",
        "* Strong relationship (0.6≤|r|)\n",
        "* Moderate relationship (0.4≤|r|)\n",
        "* Weak relationship (0.2≤|r|)\n",
        "* Very weak relationship (|r|)\n"
      ]
    },
    {
      "cell_type": "markdown",
      "metadata": {
        "id": "xxr6ij78ktfV"
      },
      "source": [
        "Now, we've demonstrated that the 8th column hs the strogens corelation, wchich is 0.688075."
      ]
    },
    {
      "cell_type": "markdown",
      "metadata": {
        "id": "VMBkQbHdlOId"
      },
      "source": [
        "**Create a Statistical Summary**"
      ]
    },
    {
      "cell_type": "markdown",
      "metadata": {
        "id": "DqWU2-p2lVc-"
      },
      "source": [
        "Okay, so we see there is a correlation let us create a statistical summary to help describe the dataset. We will use the describe() method to output a DataFrame with all this info. This will help us have a general idea about how the data is distribured."
      ]
    },
    {
      "cell_type": "code",
      "metadata": {
        "colab": {
          "base_uri": "https://localhost:8080/",
          "height": 297
        },
        "id": "-_LUZrPylYHX",
        "outputId": "6d16fa78-f9ae-4010-fab3-ab636d5f80fc"
      },
      "source": [
        "# let's take a look at a statistical summary.\n",
        "pd_data.describe()"
      ],
      "execution_count": 71,
      "outputs": [
        {
          "output_type": "execute_result",
          "data": {
            "text/html": [
              "<div>\n",
              "<style scoped>\n",
              "    .dataframe tbody tr th:only-of-type {\n",
              "        vertical-align: middle;\n",
              "    }\n",
              "\n",
              "    .dataframe tbody tr th {\n",
              "        vertical-align: top;\n",
              "    }\n",
              "\n",
              "    .dataframe thead th {\n",
              "        text-align: right;\n",
              "    }\n",
              "</style>\n",
              "<table border=\"1\" class=\"dataframe\">\n",
              "  <thead>\n",
              "    <tr style=\"text-align: right;\">\n",
              "      <th></th>\n",
              "      <th>1</th>\n",
              "      <th>2</th>\n",
              "      <th>complexAge</th>\n",
              "      <th>totalRooms</th>\n",
              "      <th>totalBedrooms</th>\n",
              "      <th>complexInhabitants</th>\n",
              "      <th>apartmentsNr</th>\n",
              "      <th>8</th>\n",
              "      <th>medianCompexValue</th>\n",
              "    </tr>\n",
              "  </thead>\n",
              "  <tbody>\n",
              "    <tr>\n",
              "      <th>count</th>\n",
              "      <td>20639.000000</td>\n",
              "      <td>20639.000000</td>\n",
              "      <td>20639.000000</td>\n",
              "      <td>20639.000000</td>\n",
              "      <td>20639.000000</td>\n",
              "      <td>20639.000000</td>\n",
              "      <td>20639.000000</td>\n",
              "      <td>20639.000000</td>\n",
              "      <td>20639.000000</td>\n",
              "    </tr>\n",
              "    <tr>\n",
              "      <th>mean</th>\n",
              "      <td>0.476138</td>\n",
              "      <td>0.328560</td>\n",
              "      <td>0.541939</td>\n",
              "      <td>0.066988</td>\n",
              "      <td>0.083321</td>\n",
              "      <td>0.039870</td>\n",
              "      <td>0.081986</td>\n",
              "      <td>0.232449</td>\n",
              "      <td>0.395555</td>\n",
              "    </tr>\n",
              "    <tr>\n",
              "      <th>std</th>\n",
              "      <td>0.199551</td>\n",
              "      <td>0.226987</td>\n",
              "      <td>0.246776</td>\n",
              "      <td>0.055487</td>\n",
              "      <td>0.065371</td>\n",
              "      <td>0.031740</td>\n",
              "      <td>0.062873</td>\n",
              "      <td>0.131006</td>\n",
              "      <td>0.237908</td>\n",
              "    </tr>\n",
              "    <tr>\n",
              "      <th>min</th>\n",
              "      <td>0.000000</td>\n",
              "      <td>0.000000</td>\n",
              "      <td>0.000000</td>\n",
              "      <td>0.000000</td>\n",
              "      <td>0.000000</td>\n",
              "      <td>0.000000</td>\n",
              "      <td>0.000000</td>\n",
              "      <td>0.000000</td>\n",
              "      <td>0.000000</td>\n",
              "    </tr>\n",
              "    <tr>\n",
              "      <th>25%</th>\n",
              "      <td>0.253984</td>\n",
              "      <td>0.147715</td>\n",
              "      <td>0.333333</td>\n",
              "      <td>0.036777</td>\n",
              "      <td>0.045701</td>\n",
              "      <td>0.021974</td>\n",
              "      <td>0.045881</td>\n",
              "      <td>0.142288</td>\n",
              "      <td>0.215671</td>\n",
              "    </tr>\n",
              "    <tr>\n",
              "      <th>50%</th>\n",
              "      <td>0.583665</td>\n",
              "      <td>0.182784</td>\n",
              "      <td>0.549020</td>\n",
              "      <td>0.054046</td>\n",
              "      <td>0.067349</td>\n",
              "      <td>0.032596</td>\n",
              "      <td>0.067094</td>\n",
              "      <td>0.209294</td>\n",
              "      <td>0.339588</td>\n",
              "    </tr>\n",
              "    <tr>\n",
              "      <th>75%</th>\n",
              "      <td>0.631474</td>\n",
              "      <td>0.549416</td>\n",
              "      <td>0.705882</td>\n",
              "      <td>0.080014</td>\n",
              "      <td>0.100248</td>\n",
              "      <td>0.048264</td>\n",
              "      <td>0.099326</td>\n",
              "      <td>0.292613</td>\n",
              "      <td>0.514845</td>\n",
              "    </tr>\n",
              "    <tr>\n",
              "      <th>max</th>\n",
              "      <td>1.000000</td>\n",
              "      <td>1.000000</td>\n",
              "      <td>1.000000</td>\n",
              "      <td>1.000000</td>\n",
              "      <td>1.000000</td>\n",
              "      <td>1.000000</td>\n",
              "      <td>1.000000</td>\n",
              "      <td>1.000000</td>\n",
              "      <td>1.000000</td>\n",
              "    </tr>\n",
              "  </tbody>\n",
              "</table>\n",
              "</div>"
            ],
            "text/plain": [
              "                  1             2  ...             8  medianCompexValue\n",
              "count  20639.000000  20639.000000  ...  20639.000000       20639.000000\n",
              "mean       0.476138      0.328560  ...      0.232449           0.395555\n",
              "std        0.199551      0.226987  ...      0.131006           0.237908\n",
              "min        0.000000      0.000000  ...      0.000000           0.000000\n",
              "25%        0.253984      0.147715  ...      0.142288           0.215671\n",
              "50%        0.583665      0.182784  ...      0.209294           0.339588\n",
              "75%        0.631474      0.549416  ...      0.292613           0.514845\n",
              "max        1.000000      1.000000  ...      1.000000           1.000000\n",
              "\n",
              "[8 rows x 9 columns]"
            ]
          },
          "metadata": {
            "tags": []
          },
          "execution_count": 71
        }
      ]
    },
    {
      "cell_type": "markdown",
      "metadata": {
        "id": "AQpxV2Cwmy6K"
      },
      "source": [
        "**Split the Data**\n",
        "\n",
        "The first thing we need to do before training the model is split the data into a training set and a test set. The training set is what we will train the model on and the test set is what we will test it on. The convention is to have 20% dedicated to testing and the remaining 80% to training, but these are not hard limits."
      ]
    },
    {
      "cell_type": "code",
      "metadata": {
        "id": "ev1GW99DnFdr"
      },
      "source": [
        "# take randomly 80% of the data for training purposes\n",
        "# and the ramaining 20% remain for test purposes\n",
        "msk = np.random.rand(len(pd_data)) < 0.8\n",
        "train_data = pd_data[msk]\n",
        "test_data = pd_data[~msk]"
      ],
      "execution_count": 74,
      "outputs": []
    },
    {
      "cell_type": "markdown",
      "metadata": {
        "id": "Fwx5Au74nHge"
      },
      "source": [
        "**Create & Fit the model**\n",
        "\n",
        "We used the linear_model.LinearReggression() from sklearn to create our linear regresion model. The fit() method is used to train the model. As we can see, all 8 columns were used at the training phase and most important - column 8 should be used, because it has a bigger correlation with the medianComplexValue. The fit() method takes two arguments. the first one represents the variables and the second one represents the true values."
      ]
    },
    {
      "cell_type": "code",
      "metadata": {
        "colab": {
          "base_uri": "https://localhost:8080/"
        },
        "id": "PQzwPm7fnfFm",
        "outputId": "538b539b-e60e-4167-a1fc-a351bfa7f32e"
      },
      "source": [
        "reg = linear_model.LinearRegression()\n",
        "reg.fit(\n",
        "    train_data[[\n",
        "      '1',\n",
        "      '2',\n",
        "      'complexAge',\n",
        "      'totalRooms',\n",
        "      'totalBedrooms',\n",
        "      'complexInhabitants',\n",
        "      'apartmentsNr',\n",
        "      '8',\n",
        "    ]], \n",
        "    train_data[['medianCompexValue']]\n",
        ")"
      ],
      "execution_count": 75,
      "outputs": [
        {
          "output_type": "execute_result",
          "data": {
            "text/plain": [
              "LinearRegression(copy_X=True, fit_intercept=True, n_jobs=None, normalize=False)"
            ]
          },
          "metadata": {
            "tags": []
          },
          "execution_count": 75
        }
      ]
    },
    {
      "cell_type": "markdown",
      "metadata": {
        "id": "T3TyKr2lom1d"
      },
      "source": [
        "**Making Multiple Predictions at Once**\n",
        "\n",
        "Now we use those 20% of testing data to make predictions."
      ]
    },
    {
      "cell_type": "code",
      "metadata": {
        "colab": {
          "base_uri": "https://localhost:8080/"
        },
        "id": "Xe1yH_IzoyDV",
        "outputId": "559f1144-444e-4e6f-883a-7bf999e82d64"
      },
      "source": [
        "test_predictions = reg.predict(\n",
        "    test_data[[\n",
        "      '1',\n",
        "      '2',\n",
        "      'complexAge',\n",
        "      'totalRooms',\n",
        "      'totalBedrooms',\n",
        "      'complexInhabitants',\n",
        "      'apartmentsNr',\n",
        "      '8'   \n",
        "    ]]\n",
        ")\n",
        "\n",
        "test_predictions"
      ],
      "execution_count": 76,
      "outputs": [
        {
          "output_type": "execute_result",
          "data": {
            "text/plain": [
              "array([[0.6304773 ],\n",
              "       [0.34444398],\n",
              "       [0.35718367],\n",
              "       ...,\n",
              "       [0.09704677],\n",
              "       [0.16952976],\n",
              "       [0.01845385]])"
            ]
          },
          "metadata": {
            "tags": []
          },
          "execution_count": 76
        }
      ]
    },
    {
      "cell_type": "markdown",
      "metadata": {
        "id": "mV1OiZ3zp6bI"
      },
      "source": [
        "**R-Squared**\n",
        "\n",
        "The R-Squared metric provides us a way to measure the goodness of fit or how well our data fits the model. The higher the R-Squared metric, the better the data fit our model."
      ]
    },
    {
      "cell_type": "code",
      "metadata": {
        "colab": {
          "base_uri": "https://localhost:8080/"
        },
        "id": "pG-9ihCdp-Fn",
        "outputId": "c0a94b41-09cf-44b9-89c3-96644418cc2a"
      },
      "source": [
        "r2score = r2_score(y_true, y_pred)\n",
        "print(\"r2_score = \", r2score)"
      ],
      "execution_count": 78,
      "outputs": [
        {
          "output_type": "stream",
          "text": [
            "r2_score =  0.629817486179757\n"
          ],
          "name": "stdout"
        }
      ]
    },
    {
      "cell_type": "markdown",
      "metadata": {
        "id": "LpuETN9mq7nb"
      },
      "source": [
        "**Plot the prediction**\n",
        "\n",
        "To plot the prediction we will use only the variables from the 8th column, because they have a clear direction of distribution.\n",
        "\n",
        "We will plot the testing data with its true values and then with blue we will plot the testing data with the predicted values."
      ]
    },
    {
      "cell_type": "code",
      "metadata": {
        "colab": {
          "base_uri": "https://localhost:8080/",
          "height": 265
        },
        "id": "bIWT5ApNrQ40",
        "outputId": "d261ea90-3587-4746-8345-6cb7b426d029"
      },
      "source": [
        "plt.scatter(test_data[['8']], test_data[['medianCompexValue']],  color='gainsboro')\n",
        "plt.plot(test_data[['8']], test_predictions, color='royalblue', linewidth = 1, linestyle= '-')\n",
        "plt.show()"
      ],
      "execution_count": 79,
      "outputs": [
        {
          "output_type": "display_data",
          "data": {
            "image/png": "[encoded data removed]",
            "text/plain": [
              "<Figure size 432x288 with 1 Axes>"
            ]
          },
          "metadata": {
            "tags": [],
            "needs_background": "light"
          }
        }
      ]
    },
    {
      "cell_type": "markdown",
      "metadata": {
        "id": "c8lwGglzrz-M"
      },
      "source": [
        "**Other measurements**"
      ]
    },
    {
      "cell_type": "code",
      "metadata": {
        "colab": {
          "base_uri": "https://localhost:8080/"
        },
        "id": "QSUTkSN6r10B",
        "outputId": "f3588f3b-8aad-48a6-99fc-369065f5bbd3"
      },
      "source": [
        "variance = explained_variance_score(y_true, y_pred)\n",
        "print(\"explained_variance_score = \", variance)\n",
        "\n",
        "max_err = max_error(y_true, y_pred)\n",
        "print(\"max_error = \", max_err)\n",
        "\n",
        "r2score = r2_score(y_true, y_pred)\n",
        "print(\"r2_score = \", r2score)\n",
        "\n",
        "mse = mean_squared_error(y_true, y_pred)\n",
        "print(\"mean_squared_error = \", mse)\n",
        "\n",
        "mae = mean_absolute_error(y_true, y_pred)\n",
        "print(\"mean_absolute_error = \", mae)"
      ],
      "execution_count": 80,
      "outputs": [
        {
          "output_type": "stream",
          "text": [
            "explained_variance_score =  0.6298200606688624\n",
            "max_error =  438435.776657823\n",
            "r2_score =  0.629817486179757\n",
            "mean_squared_error =  4903325354.047457\n",
            "mean_absolute_error =  51059.171527043225\n"
          ],
          "name": "stdout"
        }
      ]
    }
  ]
}